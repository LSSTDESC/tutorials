{
 "cells": [
  {
   "cell_type": "markdown",
   "metadata": {},
   "source": [
    "# Streams\n",
    "### Ken Smith\n",
    "Grab the list of streams that match a regular expression.  Interrogate a stream.\n",
    "\n",
    "Demonstrates usage of:\n",
    "* /streams/\n",
    "* /streams/```topic```\n",
    "\n",
    "\n",
    "### Python (3 only) requirements - pip install\n",
    "lasair"
   ]
  },
  {
   "cell_type": "markdown",
   "metadata": {},
   "source": [
    "### Grab my Lasair API token\n",
    "Get your token before you start.  If you haven't got a Lasair account you can register here: https://lasair-iris.roe.ac.uk/signup.  Use the curl command below to get your token & set the last line of the next cell to be your token ID. \n",
    "\n",
    "```bash\n",
    "curl --data \"username=tutorial&password=***********\" https://lasair-iris.roe.ac.uk/api/auth-token/\n",
    "```\n",
    "You should get the following response:\n",
    "```json\n",
    "{\"token\":\"acf14c2788ec5d7abb351f06e9ce2624a810b2ab\"}\n",
    "```\n",
    "We can use this token temporarily, but note that it will be disabled after the workshop!"
   ]
  },
  {
   "cell_type": "code",
   "execution_count": 19,
   "metadata": {},
   "outputs": [],
   "source": [
    "from lasair import LasairError, lasair_client as lasair\n",
    "import json\n",
    "\n",
    "token = \"acf14c2788ec5d7abb351f06e9ce2624a810b2ab\""
   ]
  },
  {
   "cell_type": "markdown",
   "metadata": {},
   "source": [
    "### Get all the streams\n",
    "Get all the available streams."
   ]
  },
  {
   "cell_type": "code",
   "execution_count": 20,
   "metadata": {},
   "outputs": [
    {
     "name": "stdout",
     "output_type": "stream",
     "text": [
      "2OrphanSearch https://lasair-iris.roe.ac.uk/query/1/\n",
      "2SN-likecandidates https://lasair-iris.roe.ac.uk/query/2/\n",
      "2AllnucleartransientsandTDEcandidates https://lasair-iris.roe.ac.uk/query/3/\n",
      "2SherlockCVs https://lasair-iris.roe.ac.uk/query/4/\n",
      "2RemoteCFroObject https://lasair-iris.roe.ac.uk/query/10/\n",
      "2C-SNAILS https://lasair-iris.roe.ac.uk/query/15/\n",
      "2MillioninSDSS https://lasair-iris.roe.ac.uk/query/38/\n",
      "2Lightweight https://lasair-iris.roe.ac.uk/query/41/\n",
      "2TDE-candidates-EA https://lasair-iris.roe.ac.uk/query/45/\n",
      "2TNSsources https://lasair-iris.roe.ac.uk/query/60/\n",
      "2Extragalactic https://lasair-iris.roe.ac.uk/query/64/\n",
      "2Roys_TDE-candidates https://lasair-iris.roe.ac.uk/query/69/\n",
      "2TNSsources https://lasair-iris.roe.ac.uk/query/71/\n"
     ]
    }
   ],
   "source": [
    "regex= '.*'\n",
    "\n",
    "L = lasair(token)\n",
    "\n",
    "try:\n",
    "    result = L.streams_topics(regex)\n",
    "except LasairError as e:\n",
    "    print(e)\n",
    "\n",
    "for row in result:\n",
    "    print(row['topic'], row['more_info'])\n"
   ]
  },
  {
   "cell_type": "markdown",
   "metadata": {},
   "source": [
    "### Get info on a particular topic"
   ]
  },
  {
   "cell_type": "code",
   "execution_count": 21,
   "metadata": {
    "scrolled": true
   },
   "outputs": [
    {
     "name": "stdout",
     "output_type": "stream",
     "text": [
      "{\n",
      "  \"objectId\": \"ZTF19aanvddi\",\n",
      "  \"g\": 19.8582,\n",
      "  \"g_max\": 19.4956,\n",
      "  \"g_host\": 20.9762,\n",
      "  \"r\": 19.51,\n",
      "  \"r_max\": 19.4376,\n",
      "  \"r_host\": 20.8417,\n",
      "  \"ra\": 239.70257961666664,\n",
      "  \"decl\": 1.9088958500000002,\n",
      "  \"disc_days\": -616.2,\n",
      "  \"latest_days\": -643.1,\n",
      "  \"classification\": \"SN\",\n",
      "  \"UTC\": \"2021-04-07 10:56:41\"\n",
      "}\n"
     ]
    }
   ],
   "source": [
    "topic = '2C-SNAILS'\n",
    "\n",
    "\n",
    "#try:\n",
    "#    result = L.streams(topic, limit=1)\n",
    "#except LasairError as e:\n",
    "#    print(e)\n",
    "\n",
    "result = L.streams(topic, limit=1)\n",
    "\n",
    "\n",
    "    \n",
    "for row in result:\n",
    "    print(json.dumps(row, indent=2))\n"
   ]
  },
  {
   "cell_type": "code",
   "execution_count": null,
   "metadata": {},
   "outputs": [],
   "source": []
  }
 ],
 "metadata": {
  "kernelspec": {
   "display_name": "lasair37",
   "language": "python",
   "name": "lasair37"
  },
  "language_info": {
   "codemirror_mode": {
    "name": "ipython",
    "version": 3
   },
   "file_extension": ".py",
   "mimetype": "text/x-python",
   "name": "python",
   "nbconvert_exporter": "python",
   "pygments_lexer": "ipython3",
   "version": "3.7.10"
  }
 },
 "nbformat": 4,
 "nbformat_minor": 2
}
