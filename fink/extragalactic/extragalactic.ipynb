{
 "cells": [
  {
   "cell_type": "markdown",
   "metadata": {},
   "source": [
    "<img src=\"../Fink_PrimaryLogo_WEB.jpg\" width=400 />\n",
    "\n",
    "# Fink case study: extragalactic science"
   ]
  },
  {
   "cell_type": "markdown",
   "metadata": {},
   "source": [
    "## Goal\n",
    "\n",
    "The goal of this notebook is to show how Fink can contribute to extragalactic science. This notebook includes queries for **Active Galactic Nucleii** and **Supernova** science. \n",
    "\n",
    "Real-time analysis for follow-up coordination will be better done through the Fink livestreams which processes and makes available the alert data within minutes of reception. Access through this notebook uses the API access which is not real-time based. We aggregate the data into our API and Science Portal database at the end of each observing night. API access can be useful to analyze last night and older alerts. "
   ]
  },
  {
   "cell_type": "markdown",
   "metadata": {},
   "source": [
    "## What is behind?\n",
    "\n",
    "This notebook will use:\n",
    "- **Fink cross-match** with close by sources in the  [SIMBAD (Wenger et al. 2020)](https://aas.aanda.org/articles/aas/abs/2000/07/ds1821/ds1821.html) catalogue (within 1'') using [xmatch service](http://cdsxmatch.u-strasbg.fr) provided by the Centre de Données astronomiques de Strasbourg (CDS) .\n",
    "- **Fink's machine learning classification** scores \n",
    "    - [SuperNNova](https://github.com/supernnova/SuperNNova) [(Möller & de Boissière 2019)](https://academic.oup.com/mnras/article-abstract/491/3/4277/5651173) to classify SNe at all light-curve epochs\n",
    "    - Random Forest (Leoni et al. in prep) and [(Ishida et al. 2019b)](https://ui.adsabs.harvard.edu/abs/2019MNRAS.483....2I/abstract) to classify early (pre-max) SN candidates\n",
    "- **Fink's extra features** such as color `r-g` when possible."
   ]
  },
  {
   "cell_type": "markdown",
   "metadata": {},
   "source": [
    "## Environment set up\n",
    "\n",
    "To run this notebook, you need to import the following libraries (already installed in colab):"
   ]
  },
  {
   "cell_type": "code",
   "execution_count": 1,
   "metadata": {},
   "outputs": [],
   "source": [
    "import requests\n",
    "\n",
    "import pandas as pd\n",
    "import numpy as np\n",
    "\n",
    "import matplotlib.pyplot as plt\n",
    "import seaborn as sns\n",
    "sns.set_context('talk')"
   ]
  },
  {
   "cell_type": "markdown",
   "metadata": {},
   "source": [
    "# 1st case study: known AGNs"
   ]
  },
  {
   "cell_type": "markdown",
   "metadata": {},
   "source": [
    "### <font color='blue'>API query:</font> <font color='orange'> latest alerts</font> associated with known AGNs\n",
    "\n",
    "Each night, alerts are cross-matched in real-time against the CDS SIMBAD database. About 30% of the stream (after applying quality cuts) ends-up with a counter-part. Classified alerts can be then queried using the Fink API service. To know all available classes in SIMBAD, see http://134.158.75.151:24000/api/v1/classes. We will first focus on alerts spatially coincident with an AGN featured in the CDS Simbad catalogue:"
   ]
  },
  {
   "cell_type": "code",
   "execution_count": 2,
   "metadata": {},
   "outputs": [],
   "source": [
    "# Get latests 5 alerts linked to AGNs\n",
    "r = requests.post(\n",
    "  'http://134.158.75.151:24000/api/v1/latests',\n",
    "  json={\n",
    "    'class': '(SIMBAD) AGN',    # tag from CDSxmatch service\n",
    "    'n': '5'                    # number of alerts\n",
    "  }\n",
    ")\n",
    "\n",
    "# Format output in a DataFrame\n",
    "pdf = pd.read_json(r.content)"
   ]
  },
  {
   "cell_type": "markdown",
   "metadata": {},
   "source": [
    "Note that you can also use the `startdate` and `stopdate` arguments in the query. See http://134.158.75.151:24000/api/v1/latests to check all the available arguments. This table contains all alerts linked to a CDS catalogue AGN. This includes\n",
    "- Alert information from ZTF processing (just latest photometry points).\n",
    "- Fink's added values.\n",
    "\n",
    "The table schema is described at http://134.158.75.151:24000/api/v1/columns."
   ]
  },
  {
   "cell_type": "code",
   "execution_count": 3,
   "metadata": {},
   "outputs": [
    {
     "data": {
      "text/html": [
       "<div>\n",
       "<style scoped>\n",
       "    .dataframe tbody tr th:only-of-type {\n",
       "        vertical-align: middle;\n",
       "    }\n",
       "\n",
       "    .dataframe tbody tr th {\n",
       "        vertical-align: top;\n",
       "    }\n",
       "\n",
       "    .dataframe thead th {\n",
       "        text-align: right;\n",
       "    }\n",
       "</style>\n",
       "<table border=\"1\" class=\"dataframe\">\n",
       "  <thead>\n",
       "    <tr style=\"text-align: right;\">\n",
       "      <th></th>\n",
       "      <th>d:cdsxmatch</th>\n",
       "      <th>d:knscore</th>\n",
       "      <th>d:mulens_class_1</th>\n",
       "      <th>d:mulens_class_2</th>\n",
       "      <th>d:rfscore</th>\n",
       "      <th>d:roid</th>\n",
       "      <th>d:snn_sn_vs_all</th>\n",
       "      <th>d:snn_snia_vs_nonia</th>\n",
       "      <th>i:candid</th>\n",
       "      <th>i:chipsf</th>\n",
       "      <th>...</th>\n",
       "      <th>i:ssdistnr</th>\n",
       "      <th>i:ssmagnr</th>\n",
       "      <th>i:ssnamenr</th>\n",
       "      <th>i:tooflag</th>\n",
       "      <th>i:xpos</th>\n",
       "      <th>i:ypos</th>\n",
       "      <th>v:classification</th>\n",
       "      <th>v:r-g</th>\n",
       "      <th>v:rate(r-g)</th>\n",
       "      <th>v:lastdate</th>\n",
       "    </tr>\n",
       "  </thead>\n",
       "  <tbody>\n",
       "    <tr>\n",
       "      <th>0</th>\n",
       "      <td>AGN</td>\n",
       "      <td>0</td>\n",
       "      <td>VARIABLE</td>\n",
       "      <td>VARIABLE</td>\n",
       "      <td>0.154</td>\n",
       "      <td>0</td>\n",
       "      <td>0.396752</td>\n",
       "      <td>0.743571</td>\n",
       "      <td>1561473430615010018</td>\n",
       "      <td>2.781908</td>\n",
       "      <td>...</td>\n",
       "      <td>-999</td>\n",
       "      <td>-999</td>\n",
       "      <td>null</td>\n",
       "      <td>0</td>\n",
       "      <td>756.6596</td>\n",
       "      <td>2491.5957</td>\n",
       "      <td>AGN</td>\n",
       "      <td>NaN</td>\n",
       "      <td>NaN</td>\n",
       "      <td>2021-04-11 11:21:45.000</td>\n",
       "    </tr>\n",
       "    <tr>\n",
       "      <th>1</th>\n",
       "      <td>AGN</td>\n",
       "      <td>0</td>\n",
       "      <td>ML</td>\n",
       "      <td>VARIABLE</td>\n",
       "      <td>0.113</td>\n",
       "      <td>0</td>\n",
       "      <td>0.317779</td>\n",
       "      <td>0.911204</td>\n",
       "      <td>1561473430015015000</td>\n",
       "      <td>3.716162</td>\n",
       "      <td>...</td>\n",
       "      <td>-999</td>\n",
       "      <td>-999</td>\n",
       "      <td>null</td>\n",
       "      <td>0</td>\n",
       "      <td>713.4482</td>\n",
       "      <td>180.1552</td>\n",
       "      <td>AGN</td>\n",
       "      <td>-0.067958</td>\n",
       "      <td>NaN</td>\n",
       "      <td>2021-04-11 11:21:45.000</td>\n",
       "    </tr>\n",
       "    <tr>\n",
       "      <th>2</th>\n",
       "      <td>AGN</td>\n",
       "      <td>0</td>\n",
       "      <td></td>\n",
       "      <td></td>\n",
       "      <td>0.046</td>\n",
       "      <td>0</td>\n",
       "      <td>0.628921</td>\n",
       "      <td>0.647032</td>\n",
       "      <td>1561472484715015013</td>\n",
       "      <td>2.045862</td>\n",
       "      <td>...</td>\n",
       "      <td>-999</td>\n",
       "      <td>-999</td>\n",
       "      <td>null</td>\n",
       "      <td>0</td>\n",
       "      <td>1606.1633</td>\n",
       "      <td>2952.5908</td>\n",
       "      <td>AGN</td>\n",
       "      <td>NaN</td>\n",
       "      <td>NaN</td>\n",
       "      <td>2021-04-11 11:20:22.998</td>\n",
       "    </tr>\n",
       "    <tr>\n",
       "      <th>3</th>\n",
       "      <td>AGN</td>\n",
       "      <td>0</td>\n",
       "      <td>ML</td>\n",
       "      <td>VARIABLE</td>\n",
       "      <td>0.098</td>\n",
       "      <td>0</td>\n",
       "      <td>0.634487</td>\n",
       "      <td>0.908782</td>\n",
       "      <td>1561469511315015007</td>\n",
       "      <td>2.092179</td>\n",
       "      <td>...</td>\n",
       "      <td>-999</td>\n",
       "      <td>-999</td>\n",
       "      <td>null</td>\n",
       "      <td>0</td>\n",
       "      <td>2155.5374</td>\n",
       "      <td>275.9798</td>\n",
       "      <td>AGN</td>\n",
       "      <td>-0.067958</td>\n",
       "      <td>NaN</td>\n",
       "      <td>2021-04-11 11:16:06.001</td>\n",
       "    </tr>\n",
       "    <tr>\n",
       "      <th>4</th>\n",
       "      <td>AGN</td>\n",
       "      <td>0</td>\n",
       "      <td>VARIABLE</td>\n",
       "      <td>VARIABLE</td>\n",
       "      <td>0.074</td>\n",
       "      <td>0</td>\n",
       "      <td>0.316826</td>\n",
       "      <td>0.898167</td>\n",
       "      <td>1561451080015015000</td>\n",
       "      <td>2.519438</td>\n",
       "      <td>...</td>\n",
       "      <td>-999</td>\n",
       "      <td>-999</td>\n",
       "      <td>null</td>\n",
       "      <td>0</td>\n",
       "      <td>709.7624</td>\n",
       "      <td>169.9356</td>\n",
       "      <td>AGN</td>\n",
       "      <td>-0.067958</td>\n",
       "      <td>NaN</td>\n",
       "      <td>2021-04-11 10:49:34.003</td>\n",
       "    </tr>\n",
       "  </tbody>\n",
       "</table>\n",
       "<p>5 rows × 48 columns</p>\n",
       "</div>"
      ],
      "text/plain": [
       "  d:cdsxmatch  d:knscore d:mulens_class_1 d:mulens_class_2  d:rfscore  d:roid  \\\n",
       "0         AGN          0         VARIABLE         VARIABLE      0.154       0   \n",
       "1         AGN          0               ML         VARIABLE      0.113       0   \n",
       "2         AGN          0                                        0.046       0   \n",
       "3         AGN          0               ML         VARIABLE      0.098       0   \n",
       "4         AGN          0         VARIABLE         VARIABLE      0.074       0   \n",
       "\n",
       "   d:snn_sn_vs_all  d:snn_snia_vs_nonia             i:candid  i:chipsf  ...  \\\n",
       "0         0.396752             0.743571  1561473430615010018  2.781908  ...   \n",
       "1         0.317779             0.911204  1561473430015015000  3.716162  ...   \n",
       "2         0.628921             0.647032  1561472484715015013  2.045862  ...   \n",
       "3         0.634487             0.908782  1561469511315015007  2.092179  ...   \n",
       "4         0.316826             0.898167  1561451080015015000  2.519438  ...   \n",
       "\n",
       "   i:ssdistnr  i:ssmagnr  i:ssnamenr  i:tooflag     i:xpos     i:ypos  \\\n",
       "0        -999       -999        null          0   756.6596  2491.5957   \n",
       "1        -999       -999        null          0   713.4482   180.1552   \n",
       "2        -999       -999        null          0  1606.1633  2952.5908   \n",
       "3        -999       -999        null          0  2155.5374   275.9798   \n",
       "4        -999       -999        null          0   709.7624   169.9356   \n",
       "\n",
       "   v:classification     v:r-g v:rate(r-g)               v:lastdate  \n",
       "0               AGN       NaN         NaN  2021-04-11 11:21:45.000  \n",
       "1               AGN -0.067958         NaN  2021-04-11 11:21:45.000  \n",
       "2               AGN       NaN         NaN  2021-04-11 11:20:22.998  \n",
       "3               AGN -0.067958         NaN  2021-04-11 11:16:06.001  \n",
       "4               AGN -0.067958         NaN  2021-04-11 10:49:34.003  \n",
       "\n",
       "[5 rows x 48 columns]"
      ]
     },
     "execution_count": 3,
     "metadata": {},
     "output_type": "execute_result"
    }
   ],
   "source": [
    "pdf"
   ]
  },
  {
   "cell_type": "markdown",
   "metadata": {},
   "source": [
    "Get objects Ids associated to these alerts (AGNs in ZTF)."
   ]
  },
  {
   "cell_type": "code",
   "execution_count": 4,
   "metadata": {},
   "outputs": [],
   "source": [
    "recent_AGN_objectIds = pdf['i:objectId'].unique()"
   ]
  },
  {
   "cell_type": "markdown",
   "metadata": {},
   "source": [
    "### <font color='blue'>API query:</font> get <font color='orange'> photometry </font> for one of these AGNs\n",
    "\n",
    "You can then use the `objects` API service to get all the photometry about a particular object."
   ]
  },
  {
   "cell_type": "code",
   "execution_count": 5,
   "metadata": {},
   "outputs": [],
   "source": [
    "r = requests.post(\n",
    "  'http://134.158.75.151:24000/api/v1/objects',\n",
    "  json={\n",
    "    'objectId': recent_AGN_objectIds[1],\n",
    "    'output-format': 'json',\n",
    "    'withupperlim': 'True'\n",
    "  }\n",
    ")\n",
    "\n",
    "# Format output in a DataFrame\n",
    "single_object = pd.read_json(r.content)"
   ]
  },
  {
   "cell_type": "markdown",
   "metadata": {},
   "source": [
    "This query can include upper limits and bad  quality  data associated to this object using the argument `withupperlim`.\n",
    "\n",
    "See http://134.158.75.151:24000/api/v1/objects to get the list of available arguments."
   ]
  },
  {
   "cell_type": "markdown",
   "metadata": {},
   "source": [
    "### <font color='blue'>Analysing the output:</font> plot the light-curve for visualization\n",
    "\n",
    "See the example on http://134.158.75.151:24000/api to plot full lightcurve with layout template.  We implement here an useful function for plotting light-curves in this notebook."
   ]
  },
  {
   "cell_type": "code",
   "execution_count": 6,
   "metadata": {},
   "outputs": [],
   "source": [
    "def plot_lc(pdf):\n",
    "    \"\"\" Plot photometry contains in an alert\n",
    "    \n",
    "    Parameters\n",
    "    ----------\n",
    "    pdf: pandas DataFrame\n",
    "        Pandas DataFrame with single alert row\n",
    "    \"\"\"\n",
    "    fig = plt.figure(figsize=(15, 6))\n",
    "\n",
    "    # Colors to plot\n",
    "    colordic = {1: 'C0', 2: 'C1'}\n",
    "\n",
    "    # Labels of ZTF filters\n",
    "    filtdic = {1: 'g', 2: 'r'}\n",
    "\n",
    "    for filt in np.unique(pdf['i:fid']):\n",
    "        # select data from one filter at a time\n",
    "        maskFilt = pdf['i:fid'] == filt\n",
    "\n",
    "        # The column `d:tag` is used to check data type\n",
    "        maskValid = pdf['d:tag'] == 'valid'\n",
    "        plt.errorbar(\n",
    "            pdf[maskValid & maskFilt]['i:jd'].apply(lambda x: x - 2400000.5),\n",
    "            pdf[maskValid & maskFilt]['i:magpsf'],\n",
    "            pdf[maskValid & maskFilt]['i:sigmapsf'],\n",
    "            ls = '', marker='o', color=colordic[filt], label=filtdic[filt]\n",
    "        )\n",
    "\n",
    "        maskUpper = pdf['d:tag'] == 'upperlim'\n",
    "        plt.plot(\n",
    "            pdf[maskUpper & maskFilt]['i:jd'].apply(lambda x: x - 2400000.5),\n",
    "            pdf[maskUpper & maskFilt]['i:diffmaglim'],\n",
    "            ls='', marker='v', color=colordic[filt], markerfacecolor='none'\n",
    "        )\n",
    "\n",
    "        maskBadquality = pdf['d:tag'] == 'badquality'\n",
    "        plt.errorbar(\n",
    "            pdf[maskBadquality & maskFilt]['i:jd'].apply(lambda x: x - 2400000.5),\n",
    "            pdf[maskBadquality & maskFilt]['i:magpsf'],\n",
    "            pdf[maskBadquality & maskFilt]['i:sigmapsf'],\n",
    "            ls='', marker='^', color=colordic[filt]\n",
    "        )\n",
    "\n",
    "    plt.gca().invert_yaxis()\n",
    "    plt.legend()\n",
    "    plt.title(pdf['i:objectId'][0])\n",
    "    plt.xlabel('Modified Julian Date')\n",
    "    plt.ylabel('Magnitude')\n",
    "    plt.show()\n",
    "    msg = \"\"\"\n",
    "    - Circles (●) with error bars show valid alerts that pass the Fink quality cuts. \n",
    "    - Upper triangles with errors (▲), represent alert measurements that do not satisfy Fink quality cuts, but are nevetheless contained in the history of valid alerts and used by classifiers.\n",
    "    - Lower triangles (▽), represent 5-sigma mag limit in difference image based on PSF-fit photometry contained in the history of valid alerts.\n",
    "    \"\"\"\n",
    "    print(msg)"
   ]
  },
  {
   "cell_type": "code",
   "execution_count": 7,
   "metadata": {},
   "outputs": [
    {
     "data": {
      "image/png": "[encoded data removed]",
      "text/plain": [
       "<Figure size 1080x432 with 1 Axes>"
      ]
     },
     "metadata": {
      "needs_background": "light"
     },
     "output_type": "display_data"
    },
    {
     "name": "stdout",
     "output_type": "stream",
     "text": [
      "\n",
      "    - Circles (●) with error bars show valid alerts that pass the Fink quality cuts. \n",
      "    - Upper triangles with errors (▲), represent alert measurements that do not satisfy Fink quality cuts, but are nevetheless contained in the history of valid alerts and used by classifiers.\n",
      "    - Lower triangles (▽), represent 5-sigma mag limit in difference image based on PSF-fit photometry contained in the history of valid alerts.\n",
      "    \n"
     ]
    }
   ],
   "source": [
    "plot_lc(single_object)"
   ]
  },
  {
   "cell_type": "markdown",
   "metadata": {},
   "source": [
    "# 2nd case study: early supernovae candidates\n",
    "**Early supernova candidates is a tag defined and provided by Fink.** \n",
    "It requires that the alert has no known transient association (from catalogues), it is relatively new (number of previous detections < 20) and when both a [SuperNNova](https://github.com/supernnova/SuperNNova) [(Möller & de Boissière 2019)](https://academic.oup.com/mnras/article-abstract/491/3/4277/5651173) trained to identify SNe Ia or SNe and a Random Forest (Leoni et al. in prep.) based on [(Ishida et al. 2019b)](https://ui.adsabs.harvard.edu/abs/2019MNRAS.483....2I/abstract) trained to select early supernovae have a probability higher than 50% of this object being a SN."
   ]
  },
  {
   "cell_type": "markdown",
   "metadata": {},
   "source": [
    "### <font color='blue'>API query:</font>   <font color='orange'>latest alerts </font>  tagged as early supernovae candidates"
   ]
  },
  {
   "cell_type": "code",
   "execution_count": 8,
   "metadata": {},
   "outputs": [],
   "source": [
    "# Get latests 50 Early SN candidates\n",
    "r = requests.post(\n",
    "  'http://134.158.75.151:24000/api/v1/latests',\n",
    "  json={\n",
    "    'class': 'Early SN candidate',\n",
    "    'n': '50'\n",
    "  }\n",
    ")\n",
    "\n",
    "# Format output in a DataFrame\n",
    "pdf = pd.read_json(r.content)"
   ]
  },
  {
   "cell_type": "markdown",
   "metadata": {},
   "source": [
    "### <font color='blue'>Analysing the output:</font>   <font color='orange'>color</font>  of these alerts (if there are g and r measurements in the same night)\n",
    "Color `v:r-g` is an added value provided by Fink. It is computed as the subtraction of the `magpsf` in the `g` filter minus its corresponding `magpsf` in the `r` filter for an object in a given night. If no same-night different filter measurements are available, the value of color is `NaN`."
   ]
  },
  {
   "cell_type": "code",
   "execution_count": 9,
   "metadata": {},
   "outputs": [
    {
     "data": {
      "text/html": [
       "<div>\n",
       "<style scoped>\n",
       "    .dataframe tbody tr th:only-of-type {\n",
       "        vertical-align: middle;\n",
       "    }\n",
       "\n",
       "    .dataframe tbody tr th {\n",
       "        vertical-align: top;\n",
       "    }\n",
       "\n",
       "    .dataframe thead th {\n",
       "        text-align: right;\n",
       "    }\n",
       "</style>\n",
       "<table border=\"1\" class=\"dataframe\">\n",
       "  <thead>\n",
       "    <tr style=\"text-align: right;\">\n",
       "      <th></th>\n",
       "      <th>v:lastdate</th>\n",
       "      <th>v:rate(r-g)</th>\n",
       "      <th>v:r-g</th>\n",
       "      <th>v:classification</th>\n",
       "      <th>i:ypos</th>\n",
       "      <th>i:xpos</th>\n",
       "      <th>i:tooflag</th>\n",
       "      <th>i:ssnamenr</th>\n",
       "      <th>i:ssmagnr</th>\n",
       "      <th>i:ssdistnr</th>\n",
       "      <th>...</th>\n",
       "      <th>i:chipsf</th>\n",
       "      <th>i:candid</th>\n",
       "      <th>d:snn_snia_vs_nonia</th>\n",
       "      <th>d:snn_sn_vs_all</th>\n",
       "      <th>d:roid</th>\n",
       "      <th>d:rfscore</th>\n",
       "      <th>d:mulens_class_2</th>\n",
       "      <th>d:mulens_class_1</th>\n",
       "      <th>d:knscore</th>\n",
       "      <th>d:cdsxmatch</th>\n",
       "    </tr>\n",
       "  </thead>\n",
       "  <tbody>\n",
       "    <tr>\n",
       "      <th>0</th>\n",
       "      <td>2021-04-11 11:16:46.004</td>\n",
       "      <td>0.064623</td>\n",
       "      <td>-0.145670</td>\n",
       "      <td>Early SN candidate</td>\n",
       "      <td>1532.9552</td>\n",
       "      <td>948.3482</td>\n",
       "      <td>0</td>\n",
       "      <td>null</td>\n",
       "      <td>-999</td>\n",
       "      <td>-999</td>\n",
       "      <td>...</td>\n",
       "      <td>1.770178</td>\n",
       "      <td>1561469974015015008</td>\n",
       "      <td>0.873100</td>\n",
       "      <td>0.982564</td>\n",
       "      <td>0</td>\n",
       "      <td>0.587</td>\n",
       "      <td></td>\n",
       "      <td></td>\n",
       "      <td>0.0</td>\n",
       "      <td>Unknown</td>\n",
       "    </tr>\n",
       "    <tr>\n",
       "      <th>1</th>\n",
       "      <td>2021-04-11 10:50:15.000</td>\n",
       "      <td>0.064623</td>\n",
       "      <td>-0.145670</td>\n",
       "      <td>Early SN candidate</td>\n",
       "      <td>1516.0278</td>\n",
       "      <td>942.1081</td>\n",
       "      <td>0</td>\n",
       "      <td>null</td>\n",
       "      <td>-999</td>\n",
       "      <td>-999</td>\n",
       "      <td>...</td>\n",
       "      <td>1.281585</td>\n",
       "      <td>1561451564015015014</td>\n",
       "      <td>0.847036</td>\n",
       "      <td>0.959926</td>\n",
       "      <td>0</td>\n",
       "      <td>0.587</td>\n",
       "      <td></td>\n",
       "      <td></td>\n",
       "      <td>0.0</td>\n",
       "      <td>Unknown</td>\n",
       "    </tr>\n",
       "    <tr>\n",
       "      <th>6</th>\n",
       "      <td>2021-04-10 09:07:37.004</td>\n",
       "      <td>NaN</td>\n",
       "      <td>-0.149199</td>\n",
       "      <td>Early SN candidate</td>\n",
       "      <td>2927.7620</td>\n",
       "      <td>2537.1924</td>\n",
       "      <td>0</td>\n",
       "      <td>null</td>\n",
       "      <td>-999</td>\n",
       "      <td>-999</td>\n",
       "      <td>...</td>\n",
       "      <td>5.239892</td>\n",
       "      <td>1560380283315015017</td>\n",
       "      <td>0.862095</td>\n",
       "      <td>0.535495</td>\n",
       "      <td>0</td>\n",
       "      <td>0.543</td>\n",
       "      <td></td>\n",
       "      <td></td>\n",
       "      <td>0.0</td>\n",
       "      <td>Unknown</td>\n",
       "    </tr>\n",
       "    <tr>\n",
       "      <th>14</th>\n",
       "      <td>2021-04-10 04:48:20.002</td>\n",
       "      <td>NaN</td>\n",
       "      <td>-0.260480</td>\n",
       "      <td>Early SN candidate</td>\n",
       "      <td>2031.2811</td>\n",
       "      <td>1861.7455</td>\n",
       "      <td>0</td>\n",
       "      <td>null</td>\n",
       "      <td>-999</td>\n",
       "      <td>-999</td>\n",
       "      <td>...</td>\n",
       "      <td>4.103781</td>\n",
       "      <td>1560200233415015004</td>\n",
       "      <td>0.863507</td>\n",
       "      <td>0.987784</td>\n",
       "      <td>0</td>\n",
       "      <td>0.927</td>\n",
       "      <td></td>\n",
       "      <td></td>\n",
       "      <td>0.0</td>\n",
       "      <td>Unknown</td>\n",
       "    </tr>\n",
       "    <tr>\n",
       "      <th>15</th>\n",
       "      <td>2021-04-10 04:36:47.998</td>\n",
       "      <td>-0.001337</td>\n",
       "      <td>-0.205932</td>\n",
       "      <td>Early SN candidate</td>\n",
       "      <td>1883.1534</td>\n",
       "      <td>1520.8068</td>\n",
       "      <td>0</td>\n",
       "      <td>null</td>\n",
       "      <td>-999</td>\n",
       "      <td>-999</td>\n",
       "      <td>...</td>\n",
       "      <td>14.542282</td>\n",
       "      <td>1560192224715015022</td>\n",
       "      <td>0.866213</td>\n",
       "      <td>0.834682</td>\n",
       "      <td>0</td>\n",
       "      <td>0.711</td>\n",
       "      <td></td>\n",
       "      <td></td>\n",
       "      <td>0.0</td>\n",
       "      <td>Unknown</td>\n",
       "    </tr>\n",
       "  </tbody>\n",
       "</table>\n",
       "<p>5 rows × 48 columns</p>\n",
       "</div>"
      ],
      "text/plain": [
       "                 v:lastdate  v:rate(r-g)     v:r-g    v:classification  \\\n",
       "0   2021-04-11 11:16:46.004     0.064623 -0.145670  Early SN candidate   \n",
       "1   2021-04-11 10:50:15.000     0.064623 -0.145670  Early SN candidate   \n",
       "6   2021-04-10 09:07:37.004          NaN -0.149199  Early SN candidate   \n",
       "14  2021-04-10 04:48:20.002          NaN -0.260480  Early SN candidate   \n",
       "15  2021-04-10 04:36:47.998    -0.001337 -0.205932  Early SN candidate   \n",
       "\n",
       "       i:ypos     i:xpos  i:tooflag i:ssnamenr  i:ssmagnr  i:ssdistnr  ...  \\\n",
       "0   1532.9552   948.3482          0       null       -999        -999  ...   \n",
       "1   1516.0278   942.1081          0       null       -999        -999  ...   \n",
       "6   2927.7620  2537.1924          0       null       -999        -999  ...   \n",
       "14  2031.2811  1861.7455          0       null       -999        -999  ...   \n",
       "15  1883.1534  1520.8068          0       null       -999        -999  ...   \n",
       "\n",
       "     i:chipsf             i:candid  d:snn_snia_vs_nonia  d:snn_sn_vs_all  \\\n",
       "0    1.770178  1561469974015015008             0.873100         0.982564   \n",
       "1    1.281585  1561451564015015014             0.847036         0.959926   \n",
       "6    5.239892  1560380283315015017             0.862095         0.535495   \n",
       "14   4.103781  1560200233415015004             0.863507         0.987784   \n",
       "15  14.542282  1560192224715015022             0.866213         0.834682   \n",
       "\n",
       "    d:roid  d:rfscore d:mulens_class_2 d:mulens_class_1  d:knscore  \\\n",
       "0        0      0.587                                          0.0   \n",
       "1        0      0.587                                          0.0   \n",
       "6        0      0.543                                          0.0   \n",
       "14       0      0.927                                          0.0   \n",
       "15       0      0.711                                          0.0   \n",
       "\n",
       "    d:cdsxmatch  \n",
       "0       Unknown  \n",
       "1       Unknown  \n",
       "6       Unknown  \n",
       "14      Unknown  \n",
       "15      Unknown  \n",
       "\n",
       "[5 rows x 48 columns]"
      ]
     },
     "execution_count": 9,
     "metadata": {},
     "output_type": "execute_result"
    }
   ],
   "source": [
    "# select only valid color measurements\n",
    "candSNe_w_color = pdf[~pdf[\"v:r-g\"].isna()]\n",
    "\n",
    "# display 5 of these alerts with inverted column order\n",
    "candSNe_w_color[candSNe_w_color.columns[::-1]][:5]"
   ]
  },
  {
   "cell_type": "markdown",
   "metadata": {},
   "source": [
    "The table schema is described at http://134.158.75.151:24000/api/v1/columns."
   ]
  },
  {
   "cell_type": "markdown",
   "metadata": {},
   "source": [
    "We may want now to see the distribution of the latest colors of alerts"
   ]
  },
  {
   "cell_type": "code",
   "execution_count": 10,
   "metadata": {},
   "outputs": [
    {
     "data": {
      "image/png": "[encoded data removed]",
      "text/plain": [
       "<Figure size 1080x432 with 1 Axes>"
      ]
     },
     "metadata": {
      "needs_background": "light"
     },
     "output_type": "display_data"
    }
   ],
   "source": [
    "fig = plt.figure(figsize=(15, 6))\n",
    "\n",
    "plt.hist(candSNe_w_color[\"v:r-g\"], histtype='step')\n",
    "plt.xlabel(\"Color (r-g)\")\n",
    "plt.ylabel('number of objects');"
   ]
  },
  {
   "cell_type": "markdown",
   "metadata": {},
   "source": [
    "### <font color='blue'>Analysing the output:</font>   <font color='orange'>\"bluer\" color</font>  (e.g. r-g<0)\n",
    "\n",
    "An example for a possible query: searching alerts which have negative `v:r-g`. Which is equivalent to loosely saying they are \"bluer\" events."
   ]
  },
  {
   "cell_type": "code",
   "execution_count": 11,
   "metadata": {},
   "outputs": [
    {
     "data": {
      "text/html": [
       "<div>\n",
       "<style scoped>\n",
       "    .dataframe tbody tr th:only-of-type {\n",
       "        vertical-align: middle;\n",
       "    }\n",
       "\n",
       "    .dataframe tbody tr th {\n",
       "        vertical-align: top;\n",
       "    }\n",
       "\n",
       "    .dataframe thead th {\n",
       "        text-align: right;\n",
       "    }\n",
       "</style>\n",
       "<table border=\"1\" class=\"dataframe\">\n",
       "  <thead>\n",
       "    <tr style=\"text-align: right;\">\n",
       "      <th></th>\n",
       "      <th>i:objectId</th>\n",
       "      <th>v:r-g</th>\n",
       "    </tr>\n",
       "  </thead>\n",
       "  <tbody>\n",
       "    <tr>\n",
       "      <th>0</th>\n",
       "      <td>ZTF21aarcobt</td>\n",
       "      <td>-0.145670</td>\n",
       "    </tr>\n",
       "    <tr>\n",
       "      <th>1</th>\n",
       "      <td>ZTF21aarcobt</td>\n",
       "      <td>-0.145670</td>\n",
       "    </tr>\n",
       "    <tr>\n",
       "      <th>6</th>\n",
       "      <td>ZTF21aapkhsc</td>\n",
       "      <td>-0.149199</td>\n",
       "    </tr>\n",
       "    <tr>\n",
       "      <th>14</th>\n",
       "      <td>ZTF21aaqxiaj</td>\n",
       "      <td>-0.260480</td>\n",
       "    </tr>\n",
       "    <tr>\n",
       "      <th>15</th>\n",
       "      <td>ZTF21aaqvmix</td>\n",
       "      <td>-0.205932</td>\n",
       "    </tr>\n",
       "    <tr>\n",
       "      <th>16</th>\n",
       "      <td>ZTF21aaqvmix</td>\n",
       "      <td>-0.205932</td>\n",
       "    </tr>\n",
       "    <tr>\n",
       "      <th>17</th>\n",
       "      <td>ZTF21aaqxiaj</td>\n",
       "      <td>-0.260480</td>\n",
       "    </tr>\n",
       "    <tr>\n",
       "      <th>18</th>\n",
       "      <td>ZTF21aarcobt</td>\n",
       "      <td>-0.145670</td>\n",
       "    </tr>\n",
       "    <tr>\n",
       "      <th>20</th>\n",
       "      <td>ZTF21aarcobt</td>\n",
       "      <td>-0.145670</td>\n",
       "    </tr>\n",
       "    <tr>\n",
       "      <th>21</th>\n",
       "      <td>ZTF21aapjphz</td>\n",
       "      <td>-0.992012</td>\n",
       "    </tr>\n",
       "    <tr>\n",
       "      <th>23</th>\n",
       "      <td>ZTF21aaquhqr</td>\n",
       "      <td>-0.325252</td>\n",
       "    </tr>\n",
       "    <tr>\n",
       "      <th>24</th>\n",
       "      <td>ZTF21aaquhqr</td>\n",
       "      <td>-0.325252</td>\n",
       "    </tr>\n",
       "    <tr>\n",
       "      <th>26</th>\n",
       "      <td>ZTF21aapvxnf</td>\n",
       "      <td>-0.652516</td>\n",
       "    </tr>\n",
       "    <tr>\n",
       "      <th>27</th>\n",
       "      <td>ZTF21aapvxnf</td>\n",
       "      <td>-0.652516</td>\n",
       "    </tr>\n",
       "    <tr>\n",
       "      <th>35</th>\n",
       "      <td>ZTF21aapdvea</td>\n",
       "      <td>-0.433637</td>\n",
       "    </tr>\n",
       "    <tr>\n",
       "      <th>36</th>\n",
       "      <td>ZTF21aaqvmix</td>\n",
       "      <td>-0.205932</td>\n",
       "    </tr>\n",
       "    <tr>\n",
       "      <th>37</th>\n",
       "      <td>ZTF21aaqvmix</td>\n",
       "      <td>-0.205932</td>\n",
       "    </tr>\n",
       "    <tr>\n",
       "      <th>39</th>\n",
       "      <td>ZTF21aapdvea</td>\n",
       "      <td>-0.433637</td>\n",
       "    </tr>\n",
       "    <tr>\n",
       "      <th>40</th>\n",
       "      <td>ZTF21aaqxiaj</td>\n",
       "      <td>-0.260480</td>\n",
       "    </tr>\n",
       "    <tr>\n",
       "      <th>41</th>\n",
       "      <td>ZTF21aarcobt</td>\n",
       "      <td>-0.145670</td>\n",
       "    </tr>\n",
       "    <tr>\n",
       "      <th>42</th>\n",
       "      <td>ZTF21aapjphz</td>\n",
       "      <td>-0.992012</td>\n",
       "    </tr>\n",
       "    <tr>\n",
       "      <th>43</th>\n",
       "      <td>ZTF21aapkhsc</td>\n",
       "      <td>-0.149199</td>\n",
       "    </tr>\n",
       "    <tr>\n",
       "      <th>44</th>\n",
       "      <td>ZTF21aapjphz</td>\n",
       "      <td>-0.992012</td>\n",
       "    </tr>\n",
       "    <tr>\n",
       "      <th>45</th>\n",
       "      <td>ZTF21aaquhqr</td>\n",
       "      <td>-0.325252</td>\n",
       "    </tr>\n",
       "    <tr>\n",
       "      <th>46</th>\n",
       "      <td>ZTF21aapkhsc</td>\n",
       "      <td>-0.149199</td>\n",
       "    </tr>\n",
       "    <tr>\n",
       "      <th>47</th>\n",
       "      <td>ZTF21aaquhqr</td>\n",
       "      <td>-0.325252</td>\n",
       "    </tr>\n",
       "  </tbody>\n",
       "</table>\n",
       "</div>"
      ],
      "text/plain": [
       "      i:objectId     v:r-g\n",
       "0   ZTF21aarcobt -0.145670\n",
       "1   ZTF21aarcobt -0.145670\n",
       "6   ZTF21aapkhsc -0.149199\n",
       "14  ZTF21aaqxiaj -0.260480\n",
       "15  ZTF21aaqvmix -0.205932\n",
       "16  ZTF21aaqvmix -0.205932\n",
       "17  ZTF21aaqxiaj -0.260480\n",
       "18  ZTF21aarcobt -0.145670\n",
       "20  ZTF21aarcobt -0.145670\n",
       "21  ZTF21aapjphz -0.992012\n",
       "23  ZTF21aaquhqr -0.325252\n",
       "24  ZTF21aaquhqr -0.325252\n",
       "26  ZTF21aapvxnf -0.652516\n",
       "27  ZTF21aapvxnf -0.652516\n",
       "35  ZTF21aapdvea -0.433637\n",
       "36  ZTF21aaqvmix -0.205932\n",
       "37  ZTF21aaqvmix -0.205932\n",
       "39  ZTF21aapdvea -0.433637\n",
       "40  ZTF21aaqxiaj -0.260480\n",
       "41  ZTF21aarcobt -0.145670\n",
       "42  ZTF21aapjphz -0.992012\n",
       "43  ZTF21aapkhsc -0.149199\n",
       "44  ZTF21aapjphz -0.992012\n",
       "45  ZTF21aaquhqr -0.325252\n",
       "46  ZTF21aapkhsc -0.149199\n",
       "47  ZTF21aaquhqr -0.325252"
      ]
     },
     "execution_count": 11,
     "metadata": {},
     "output_type": "execute_result"
    }
   ],
   "source": [
    "color_selected = candSNe_w_color[candSNe_w_color[\"v:r-g\"] < 0]\n",
    "\n",
    "color_selected[['i:objectId', \"v:r-g\"]]"
   ]
  },
  {
   "cell_type": "markdown",
   "metadata": {},
   "source": [
    "### <font color='blue'>Analysing the output:</font>   <font color='orange'>\"bluer\" brighter</font>    select alerts with given color and brighter than magpsf 19 (either filter)\n",
    "An example for a possible query: searching alerts which have negative `v:r-g` and are brighter than a given magnitude.\n",
    "Please note that this is the latest measured magnitude, not a projection."
   ]
  },
  {
   "cell_type": "code",
   "execution_count": 12,
   "metadata": {},
   "outputs": [
    {
     "data": {
      "text/html": [
       "<div>\n",
       "<style scoped>\n",
       "    .dataframe tbody tr th:only-of-type {\n",
       "        vertical-align: middle;\n",
       "    }\n",
       "\n",
       "    .dataframe tbody tr th {\n",
       "        vertical-align: top;\n",
       "    }\n",
       "\n",
       "    .dataframe thead th {\n",
       "        text-align: right;\n",
       "    }\n",
       "</style>\n",
       "<table border=\"1\" class=\"dataframe\">\n",
       "  <thead>\n",
       "    <tr style=\"text-align: right;\">\n",
       "      <th></th>\n",
       "      <th>i:objectId</th>\n",
       "      <th>i:magpsf</th>\n",
       "      <th>v:r-g</th>\n",
       "      <th>v:rate(r-g)</th>\n",
       "    </tr>\n",
       "  </thead>\n",
       "  <tbody>\n",
       "    <tr>\n",
       "      <th>0</th>\n",
       "      <td>ZTF21aarcobt</td>\n",
       "      <td>18.708616</td>\n",
       "      <td>-0.145670</td>\n",
       "      <td>0.064623</td>\n",
       "    </tr>\n",
       "    <tr>\n",
       "      <th>1</th>\n",
       "      <td>ZTF21aarcobt</td>\n",
       "      <td>18.491478</td>\n",
       "      <td>-0.145670</td>\n",
       "      <td>0.064623</td>\n",
       "    </tr>\n",
       "    <tr>\n",
       "      <th>6</th>\n",
       "      <td>ZTF21aapkhsc</td>\n",
       "      <td>18.153570</td>\n",
       "      <td>-0.149199</td>\n",
       "      <td>NaN</td>\n",
       "    </tr>\n",
       "    <tr>\n",
       "      <th>14</th>\n",
       "      <td>ZTF21aaqxiaj</td>\n",
       "      <td>18.423260</td>\n",
       "      <td>-0.260480</td>\n",
       "      <td>NaN</td>\n",
       "    </tr>\n",
       "    <tr>\n",
       "      <th>15</th>\n",
       "      <td>ZTF21aaqvmix</td>\n",
       "      <td>17.316248</td>\n",
       "      <td>-0.205932</td>\n",
       "      <td>-0.001337</td>\n",
       "    </tr>\n",
       "    <tr>\n",
       "      <th>16</th>\n",
       "      <td>ZTF21aaqvmix</td>\n",
       "      <td>17.208225</td>\n",
       "      <td>-0.205932</td>\n",
       "      <td>-0.001337</td>\n",
       "    </tr>\n",
       "    <tr>\n",
       "      <th>17</th>\n",
       "      <td>ZTF21aaqxiaj</td>\n",
       "      <td>18.330706</td>\n",
       "      <td>-0.260480</td>\n",
       "      <td>NaN</td>\n",
       "    </tr>\n",
       "    <tr>\n",
       "      <th>18</th>\n",
       "      <td>ZTF21aarcobt</td>\n",
       "      <td>18.618427</td>\n",
       "      <td>-0.145670</td>\n",
       "      <td>0.064623</td>\n",
       "    </tr>\n",
       "    <tr>\n",
       "      <th>20</th>\n",
       "      <td>ZTF21aarcobt</td>\n",
       "      <td>18.420788</td>\n",
       "      <td>-0.145670</td>\n",
       "      <td>0.064623</td>\n",
       "    </tr>\n",
       "    <tr>\n",
       "      <th>21</th>\n",
       "      <td>ZTF21aapjphz</td>\n",
       "      <td>17.804733</td>\n",
       "      <td>-0.992012</td>\n",
       "      <td>NaN</td>\n",
       "    </tr>\n",
       "    <tr>\n",
       "      <th>23</th>\n",
       "      <td>ZTF21aaquhqr</td>\n",
       "      <td>17.866528</td>\n",
       "      <td>-0.325252</td>\n",
       "      <td>0.120826</td>\n",
       "    </tr>\n",
       "    <tr>\n",
       "      <th>24</th>\n",
       "      <td>ZTF21aaquhqr</td>\n",
       "      <td>17.930983</td>\n",
       "      <td>-0.325252</td>\n",
       "      <td>0.120826</td>\n",
       "    </tr>\n",
       "    <tr>\n",
       "      <th>26</th>\n",
       "      <td>ZTF21aapvxnf</td>\n",
       "      <td>18.209839</td>\n",
       "      <td>-0.652516</td>\n",
       "      <td>NaN</td>\n",
       "    </tr>\n",
       "    <tr>\n",
       "      <th>27</th>\n",
       "      <td>ZTF21aapvxnf</td>\n",
       "      <td>18.251131</td>\n",
       "      <td>-0.652516</td>\n",
       "      <td>NaN</td>\n",
       "    </tr>\n",
       "    <tr>\n",
       "      <th>36</th>\n",
       "      <td>ZTF21aaqvmix</td>\n",
       "      <td>17.277006</td>\n",
       "      <td>-0.205932</td>\n",
       "      <td>-0.001337</td>\n",
       "    </tr>\n",
       "    <tr>\n",
       "      <th>37</th>\n",
       "      <td>ZTF21aaqvmix</td>\n",
       "      <td>17.170025</td>\n",
       "      <td>-0.205932</td>\n",
       "      <td>-0.001337</td>\n",
       "    </tr>\n",
       "    <tr>\n",
       "      <th>39</th>\n",
       "      <td>ZTF21aapdvea</td>\n",
       "      <td>18.868633</td>\n",
       "      <td>-0.433637</td>\n",
       "      <td>NaN</td>\n",
       "    </tr>\n",
       "    <tr>\n",
       "      <th>40</th>\n",
       "      <td>ZTF21aaqxiaj</td>\n",
       "      <td>18.405525</td>\n",
       "      <td>-0.260480</td>\n",
       "      <td>NaN</td>\n",
       "    </tr>\n",
       "    <tr>\n",
       "      <th>41</th>\n",
       "      <td>ZTF21aarcobt</td>\n",
       "      <td>18.513592</td>\n",
       "      <td>-0.145670</td>\n",
       "      <td>0.064623</td>\n",
       "    </tr>\n",
       "    <tr>\n",
       "      <th>42</th>\n",
       "      <td>ZTF21aapjphz</td>\n",
       "      <td>18.494050</td>\n",
       "      <td>-0.992012</td>\n",
       "      <td>NaN</td>\n",
       "    </tr>\n",
       "    <tr>\n",
       "      <th>43</th>\n",
       "      <td>ZTF21aapkhsc</td>\n",
       "      <td>17.576960</td>\n",
       "      <td>-0.149199</td>\n",
       "      <td>NaN</td>\n",
       "    </tr>\n",
       "    <tr>\n",
       "      <th>44</th>\n",
       "      <td>ZTF21aapjphz</td>\n",
       "      <td>17.658592</td>\n",
       "      <td>-0.992012</td>\n",
       "      <td>NaN</td>\n",
       "    </tr>\n",
       "    <tr>\n",
       "      <th>45</th>\n",
       "      <td>ZTF21aaquhqr</td>\n",
       "      <td>17.855524</td>\n",
       "      <td>-0.325252</td>\n",
       "      <td>0.120826</td>\n",
       "    </tr>\n",
       "    <tr>\n",
       "      <th>46</th>\n",
       "      <td>ZTF21aapkhsc</td>\n",
       "      <td>17.751108</td>\n",
       "      <td>-0.149199</td>\n",
       "      <td>NaN</td>\n",
       "    </tr>\n",
       "    <tr>\n",
       "      <th>47</th>\n",
       "      <td>ZTF21aaquhqr</td>\n",
       "      <td>17.938429</td>\n",
       "      <td>-0.325252</td>\n",
       "      <td>0.120826</td>\n",
       "    </tr>\n",
       "  </tbody>\n",
       "</table>\n",
       "</div>"
      ],
      "text/plain": [
       "      i:objectId   i:magpsf     v:r-g  v:rate(r-g)\n",
       "0   ZTF21aarcobt  18.708616 -0.145670     0.064623\n",
       "1   ZTF21aarcobt  18.491478 -0.145670     0.064623\n",
       "6   ZTF21aapkhsc  18.153570 -0.149199          NaN\n",
       "14  ZTF21aaqxiaj  18.423260 -0.260480          NaN\n",
       "15  ZTF21aaqvmix  17.316248 -0.205932    -0.001337\n",
       "16  ZTF21aaqvmix  17.208225 -0.205932    -0.001337\n",
       "17  ZTF21aaqxiaj  18.330706 -0.260480          NaN\n",
       "18  ZTF21aarcobt  18.618427 -0.145670     0.064623\n",
       "20  ZTF21aarcobt  18.420788 -0.145670     0.064623\n",
       "21  ZTF21aapjphz  17.804733 -0.992012          NaN\n",
       "23  ZTF21aaquhqr  17.866528 -0.325252     0.120826\n",
       "24  ZTF21aaquhqr  17.930983 -0.325252     0.120826\n",
       "26  ZTF21aapvxnf  18.209839 -0.652516          NaN\n",
       "27  ZTF21aapvxnf  18.251131 -0.652516          NaN\n",
       "36  ZTF21aaqvmix  17.277006 -0.205932    -0.001337\n",
       "37  ZTF21aaqvmix  17.170025 -0.205932    -0.001337\n",
       "39  ZTF21aapdvea  18.868633 -0.433637          NaN\n",
       "40  ZTF21aaqxiaj  18.405525 -0.260480          NaN\n",
       "41  ZTF21aarcobt  18.513592 -0.145670     0.064623\n",
       "42  ZTF21aapjphz  18.494050 -0.992012          NaN\n",
       "43  ZTF21aapkhsc  17.576960 -0.149199          NaN\n",
       "44  ZTF21aapjphz  17.658592 -0.992012          NaN\n",
       "45  ZTF21aaquhqr  17.855524 -0.325252     0.120826\n",
       "46  ZTF21aapkhsc  17.751108 -0.149199          NaN\n",
       "47  ZTF21aaquhqr  17.938429 -0.325252     0.120826"
      ]
     },
     "execution_count": 12,
     "metadata": {},
     "output_type": "execute_result"
    }
   ],
   "source": [
    "bright_candSNe_w_color = color_selected[color_selected[\"i:magpsf\"] < 19]\n",
    "\n",
    "bright_candSNe_w_color[[\"i:objectId\", \"i:magpsf\", \"v:r-g\", \"v:rate(r-g)\"]]"
   ]
  },
  {
   "cell_type": "markdown",
   "metadata": {},
   "source": [
    "If there has been two consecutive nights with color measurement, the `v:rate(r-g)` would be different from `NaN`. This could be an useful added value to inspect the color evolution of the transient and filter candidates."
   ]
  },
  {
   "cell_type": "markdown",
   "metadata": {},
   "source": [
    "### <font color='blue'> API query:</font>   <font color='orange'>photometry</font>  for one high-probability alert with given color and brighter than magpsf 19 (either filter)\n",
    "An example for a possible query: searching alerts with high-classification probability which have negative `v:r-g` and are brighter than a given magnitude.\n",
    "\n",
    "[SuperNNova](https://github.com/supernnova/SuperNNova) [(Möller & de Boissière 2019)](https://academic.oup.com/mnras/article-abstract/491/3/4277/5651173) can be trained in different ways. Currently we have models trained to disentangle `SNe Ia vs non Ia` `(snn_snia_vs_nonia)` and `SNe vs other transients` `(snn_sn_vs_all)`. These algorithms have been trained using simulations from [(Muthukrishna et al. 2019)](https://arxiv.org/abs/1904.00014)."
   ]
  },
  {
   "cell_type": "code",
   "execution_count": 13,
   "metadata": {},
   "outputs": [],
   "source": [
    "prob_threshold = 0.8 # 80% confidence"
   ]
  },
  {
   "cell_type": "code",
   "execution_count": 14,
   "metadata": {},
   "outputs": [],
   "source": [
    "# select alerts that fit criteria\n",
    "f1 = bright_candSNe_w_color['d:snn_sn_vs_all'] > prob_threshold\n",
    "f2 = bright_candSNe_w_color['d:snn_snia_vs_nonia'] > prob_threshold\n",
    "high_prob_objs = bright_candSNe_w_color[f1 | f2]"
   ]
  },
  {
   "cell_type": "code",
   "execution_count": 15,
   "metadata": {},
   "outputs": [],
   "source": [
    "# select the latests alert and object\n",
    "high_prob_obj = high_prob_objs.sort_values(by=['i:ndethist'])['i:objectId'].iloc[-1]"
   ]
  },
  {
   "cell_type": "code",
   "execution_count": 16,
   "metadata": {},
   "outputs": [],
   "source": [
    "r = requests.post(\n",
    "  'http://134.158.75.151:24000/api/v1/objects',\n",
    "  json={\n",
    "    'objectId': high_prob_obj,\n",
    "    'output-format': 'json',\n",
    "    'withupperlim': 'True'\n",
    "  }\n",
    ")\n",
    "\n",
    "# Format output in a DataFrame\n",
    "single_object = pd.read_json(r.content)"
   ]
  },
  {
   "cell_type": "code",
   "execution_count": 17,
   "metadata": {},
   "outputs": [
    {
     "data": {
      "image/png": "[encoded data removed]",
      "text/plain": [
       "<Figure size 1080x432 with 1 Axes>"
      ]
     },
     "metadata": {
      "needs_background": "light"
     },
     "output_type": "display_data"
    },
    {
     "name": "stdout",
     "output_type": "stream",
     "text": [
      "\n",
      "    - Circles (●) with error bars show valid alerts that pass the Fink quality cuts. \n",
      "    - Upper triangles with errors (▲), represent alert measurements that do not satisfy Fink quality cuts, but are nevetheless contained in the history of valid alerts and used by classifiers.\n",
      "    - Lower triangles (▽), represent 5-sigma mag limit in difference image based on PSF-fit photometry contained in the history of valid alerts.\n",
      "    \n"
     ]
    }
   ],
   "source": [
    "plot_lc(single_object)"
   ]
  },
  {
   "cell_type": "markdown",
   "metadata": {},
   "source": [
    "# 3rd case study: spectroscopically classified type Ia supernovae in Fink\n",
    "\n",
    "In Fink, we cross-match objects against the [TNS database](https://www.wis-tns.org/). This database provides spectroscopically classified transients with a strong bias for SNe. This is an interesting sample to analyze since many of these SNe have been detected as well by ZTF.\n",
    "\n",
    "To know all available classes available in TNS see http://134.158.75.151:24000/api/v1/classes"
   ]
  },
  {
   "cell_type": "markdown",
   "metadata": {},
   "source": [
    "### <font color='blue'> API query:</font>   <font color='orange'>latest alerts</font> associated with known type Ia SNe"
   ]
  },
  {
   "cell_type": "markdown",
   "metadata": {},
   "source": [
    "You can query recent spectroscopically classified SNe in TNS.\n",
    "For example, query all objects classified as `SN Ia` in TNS between `2020/12/01` and `2021/04/05`, with a maximum of `n alerts` search inside the database"
   ]
  },
  {
   "cell_type": "code",
   "execution_count": 18,
   "metadata": {},
   "outputs": [
    {
     "name": "stdout",
     "output_type": "stream",
     "text": [
      "0    ZTF18abncdhd\n",
      "1    ZTF18abcoxmc\n",
      "2    ZTF18abvuceu\n",
      "3    ZTF18acjxyak\n",
      "4    ZTF21aamwzfi\n",
      "5    ZTF21aafdxca\n",
      "6    ZTF21aaqwjlz\n",
      "7    ZTF21aaplooj\n",
      "8    ZTF21aapvsxv\n",
      "9    ZTF21aaplnxw\n",
      "Name: i:objectId, dtype: object\n"
     ]
    }
   ],
   "source": [
    "r = requests.post(\n",
    "  'http://134.158.75.151:24000/api/v1/latests',\n",
    "  json={\n",
    "    'class': '(TNS) SN Ia',        # TNS classification\n",
    "    'n': '10',                     # n alerts to query in database\n",
    "    'startdate': '2020-12-01',     # start TNS classification\n",
    "    'stopdate': '2021-04-05',      # end TNS classification\n",
    "  }\n",
    ")\n",
    "\n",
    "# Format output in a DataFrame\n",
    "pdf = pd.read_json(r.content)\n",
    "\n",
    "print(pdf['i:objectId'])"
   ]
  },
  {
   "cell_type": "markdown",
   "metadata": {},
   "source": [
    "### <font color='blue'> API query:</font>   <font color='orange'>photometry</font> of one known type Ia SNe"
   ]
  },
  {
   "cell_type": "markdown",
   "metadata": {},
   "source": [
    "You can then use the `objects` API service to get all the photometry about a particular object and plot it with limits as in http://134.158.75.151:24000/api."
   ]
  },
  {
   "cell_type": "code",
   "execution_count": 19,
   "metadata": {},
   "outputs": [],
   "source": [
    "selected_SNeIa = pdf['i:objectId'].iloc[-1]"
   ]
  },
  {
   "cell_type": "code",
   "execution_count": 20,
   "metadata": {},
   "outputs": [],
   "source": [
    "r = requests.post(\n",
    "  'http://134.158.75.151:24000/api/v1/objects',\n",
    "  json={\n",
    "    'objectId': selected_SNeIa,\n",
    "    'output-format': 'json',\n",
    "    'withupperlim': 'True'\n",
    "  }\n",
    ")\n",
    "\n",
    "# Format output in a DataFrame\n",
    "single_object = pd.read_json(r.content)"
   ]
  },
  {
   "cell_type": "code",
   "execution_count": 21,
   "metadata": {},
   "outputs": [
    {
     "data": {
      "image/png": "[encoded data removed]",
      "text/plain": [
       "<Figure size 1080x432 with 1 Axes>"
      ]
     },
     "metadata": {
      "needs_background": "light"
     },
     "output_type": "display_data"
    },
    {
     "name": "stdout",
     "output_type": "stream",
     "text": [
      "\n",
      "    - Circles (●) with error bars show valid alerts that pass the Fink quality cuts. \n",
      "    - Upper triangles with errors (▲), represent alert measurements that do not satisfy Fink quality cuts, but are nevetheless contained in the history of valid alerts and used by classifiers.\n",
      "    - Lower triangles (▽), represent 5-sigma mag limit in difference image based on PSF-fit photometry contained in the history of valid alerts.\n",
      "    \n"
     ]
    }
   ],
   "source": [
    "plot_lc(single_object)"
   ]
  },
  {
   "cell_type": "markdown",
   "metadata": {},
   "source": [
    "### <font color='blue'> Analysing the output:</font>   <font color='orange'>Latest ML scores</font> associated with known type Ia SNe"
   ]
  },
  {
   "cell_type": "markdown",
   "metadata": {},
   "source": [
    "A more general query could be to analyze the ML classification algorithm scores for these recent SNe Ia. To do this we plot the last classification score obtained for the SNe Ia in our list."
   ]
  },
  {
   "cell_type": "code",
   "execution_count": 22,
   "metadata": {},
   "outputs": [
    {
     "data": {
      "image/png": "[encoded data removed]",
      "text/plain": [
       "<Figure size 1080x432 with 1 Axes>"
      ]
     },
     "metadata": {
      "needs_background": "light"
     },
     "output_type": "display_data"
    }
   ],
   "source": [
    "fig = plt.figure(figsize=(15, 6))\n",
    "\n",
    "for score in ['d:snn_sn_vs_all', 'd:snn_snia_vs_nonia', 'd:rfscore']:\n",
    "    plt.hist(pdf[score], histtype='step', label=score)\n",
    "plt.xlabel('sn score probability')\n",
    "plt.ylabel('number of objects')\n",
    "plt.legend()\n",
    "plt.show()"
   ]
  },
  {
   "cell_type": "markdown",
   "metadata": {},
   "source": [
    "Many of these SNe Ia are post-peak since spectroscopic follow-up is usually done around maximum brightness. Note that:\n",
    "- **'rfscore' is designed only for early SNe classification**, therefore it should not provide high scores for post-peak brightness SNe.\n",
    "- While SuperNNova scores should be valid post-maximum, some of these light-curves may be on the detection tail of the object and/or not have the SN light anymore (e.g. spurious detetions). "
   ]
  },
  {
   "cell_type": "markdown",
   "metadata": {},
   "source": [
    "### <font color='blue'> Analysing the output:</font>   <font color='orange'>SNe with close-by galaxies</font> (not necessarily their host-galaxies)"
   ]
  },
  {
   "cell_type": "markdown",
   "metadata": {},
   "source": [
    "For your science case, it may be useful to check if there is a close-by galaxy to the spectroscopically classified SNe Ia.\n",
    "\n",
    "Fink cross-matches each alert to the closest source (within 1'' radius) in the SIMBAD xmatch service providing `d:cdsxmatch` tag."
   ]
  },
  {
   "cell_type": "code",
   "execution_count": 23,
   "metadata": {},
   "outputs": [],
   "source": [
    "# select alerts that have a cross-matched Galaxy\n",
    "with_closeby_gal = pdf[pdf['d:cdsxmatch'] == 'Galaxy']"
   ]
  },
  {
   "cell_type": "markdown",
   "metadata": {},
   "source": [
    "You can expand this query to any type of galaxy present in the SIMBAD catalogue, see http://simbad.u-strasbg.fr/simbad/sim-display?data=otypes  like clusters, Seyfert, etc."
   ]
  },
  {
   "cell_type": "markdown",
   "metadata": {},
   "source": [
    "ZTF alert stream also provides useful information of close neighbours:\n",
    "\n",
    "-`i:distnr`: distance to nearest source in reference image PSF-catalog within 30 arcsec [pixels]\n",
    "\n",
    "-`i:magnr`: magnitude of nearest source in reference image PSF-catalog within 30 arcsec [mag]"
   ]
  },
  {
   "cell_type": "code",
   "execution_count": 24,
   "metadata": {
    "scrolled": true
   },
   "outputs": [
    {
     "data": {
      "text/html": [
       "<div>\n",
       "<style scoped>\n",
       "    .dataframe tbody tr th:only-of-type {\n",
       "        vertical-align: middle;\n",
       "    }\n",
       "\n",
       "    .dataframe tbody tr th {\n",
       "        vertical-align: top;\n",
       "    }\n",
       "\n",
       "    .dataframe thead th {\n",
       "        text-align: right;\n",
       "    }\n",
       "</style>\n",
       "<table border=\"1\" class=\"dataframe\">\n",
       "  <thead>\n",
       "    <tr style=\"text-align: right;\">\n",
       "      <th></th>\n",
       "      <th>i:objectId</th>\n",
       "      <th>i:distnr</th>\n",
       "      <th>i:magnr</th>\n",
       "    </tr>\n",
       "  </thead>\n",
       "  <tbody>\n",
       "    <tr>\n",
       "      <th>3</th>\n",
       "      <td>ZTF18acjxyak</td>\n",
       "      <td>0.669415</td>\n",
       "      <td>15.710999</td>\n",
       "    </tr>\n",
       "    <tr>\n",
       "      <th>7</th>\n",
       "      <td>ZTF21aaplooj</td>\n",
       "      <td>0.928013</td>\n",
       "      <td>16.910000</td>\n",
       "    </tr>\n",
       "  </tbody>\n",
       "</table>\n",
       "</div>"
      ],
      "text/plain": [
       "     i:objectId  i:distnr    i:magnr\n",
       "3  ZTF18acjxyak  0.669415  15.710999\n",
       "7  ZTF21aaplooj  0.928013  16.910000"
      ]
     },
     "execution_count": 24,
     "metadata": {},
     "output_type": "execute_result"
    }
   ],
   "source": [
    "with_closeby_gal[['i:objectId', 'i:distnr', 'i:magnr']]"
   ]
  },
  {
   "cell_type": "markdown",
   "metadata": {},
   "source": [
    "### <font color='blue'> API query:</font>   <font color='orange'>thumbnails</font> of one known type Ia SNe\n",
    "It may be useful to visualize in the ZTF provided stamps or thumbnails centered on the transient."
   ]
  },
  {
   "cell_type": "code",
   "execution_count": 25,
   "metadata": {},
   "outputs": [],
   "source": [
    "# transfer cutout data\n",
    "r = requests.post(\n",
    "  'http://134.158.75.151:24000/api/v1/objects',\n",
    "  json={\n",
    "    'objectId': with_closeby_gal['i:objectId'].iloc[0],\n",
    "    'withcutouts': 'True'\n",
    "  }\n",
    ")\n",
    "\n",
    "# Format output in a DataFrame\n",
    "pdf = pd.read_json(r.content)"
   ]
  },
  {
   "cell_type": "code",
   "execution_count": 26,
   "metadata": {},
   "outputs": [
    {
     "data": {
      "image/png": "[encoded data removed]",
      "text/plain": [
       "<Figure size 1080x432 with 3 Axes>"
      ]
     },
     "metadata": {
      "needs_background": "light"
     },
     "output_type": "display_data"
    }
   ],
   "source": [
    "fig, axes = plt.subplots(1, 3, figsize=(15, 6))\n",
    "\n",
    "columns = [\n",
    "    'b:cutoutScience_stampData',\n",
    "    'b:cutoutTemplate_stampData',\n",
    "    'b:cutoutDifference_stampData'\n",
    "]\n",
    "for index, col in enumerate(columns):\n",
    "    # 2D array\n",
    "    data = pdf[col].values[0]\n",
    "\n",
    "    # You could optimize the color range to highlight the galaxy\n",
    "    axes[index].imshow(data)\n",
    "    axes[index].set_title(col)\n",
    "plt.show()"
   ]
  },
  {
   "cell_type": "markdown",
   "metadata": {},
   "source": [
    "Alternatively for displaying images, you can use our cutout service (see http://134.158.75.151:24000/api/v1/cutouts for the list of available arguments):"
   ]
  },
  {
   "cell_type": "code",
   "execution_count": 27,
   "metadata": {},
   "outputs": [
    {
     "data": {
      "image/png": "[encoded data removed]",
      "text/plain": [
       "<PIL.Image.Image image mode=L size=400x400 at 0x7FA148583240>"
      ]
     },
     "execution_count": 27,
     "metadata": {},
     "output_type": "execute_result"
    }
   ],
   "source": [
    "import io\n",
    "from PIL import Image as im\n",
    "\n",
    "# get processed image data\n",
    "r = requests.post(\n",
    "    'http://134.158.75.151:24000/api/v1/cutouts',\n",
    "    json={\n",
    "        'objectId': with_closeby_gal['i:objectId'].iloc[0],\n",
    "        'kind': 'Science', # Science, Template, Difference\n",
    "    }\n",
    ")\n",
    "\n",
    "image = im.open(io.BytesIO(r.content))\n",
    "image.resize((400, 400))"
   ]
  },
  {
   "cell_type": "markdown",
   "metadata": {},
   "source": [
    "# Summary\n",
    "In this notebook we have searched for AGNs and SNe:\n",
    "- Querying Fink's API for latest alerts using known catalogue types, e.g. from SIMBAD or TNS.\n",
    "- Querying Fink's API for candidate SNe selected using our ML algorithms.\n",
    "- Filtering all of these alerts according to your science case.\n",
    "- Querying Fink's API for photometry and thumbnails for a given object."
   ]
  },
  {
   "cell_type": "markdown",
   "metadata": {},
   "source": [
    "## An issue to report, or a question to ask: contact@fink-broker.org!"
   ]
  },
  {
   "cell_type": "markdown",
   "metadata": {},
   "source": []
  }
 ],
 "metadata": {
  "kernelspec": {
   "display_name": "Python 3",
   "language": "python",
   "name": "python3"
  },
  "language_info": {
   "codemirror_mode": {
    "name": "ipython",
    "version": 3
   },
   "file_extension": ".py",
   "mimetype": "text/x-python",
   "name": "python",
   "nbconvert_exporter": "python",
   "pygments_lexer": "ipython3",
   "version": "3.7.1"
  }
 },
 "nbformat": 4,
 "nbformat_minor": 4
}
